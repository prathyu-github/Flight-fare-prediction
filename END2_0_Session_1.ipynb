{
  "nbformat": 4,
  "nbformat_minor": 0,
  "metadata": {
    "colab": {
      "name": "END2.0 Session 1.ipynb",
      "provenance": [],
      "include_colab_link": true
    },
    "kernelspec": {
      "name": "python3",
      "display_name": "Python 3"
    },
    "language_info": {
      "name": "python"
    }
  },
  "cells": [
    {
      "cell_type": "markdown",
      "metadata": {
        "id": "view-in-github",
        "colab_type": "text"
      },
      "source": [
        "<a href=\"https://colab.research.google.com/github/prathyu-github/Flight-fare-prediction/blob/main/END2_0_Session_1.ipynb\" target=\"_parent\"><img src=\"https://colab.research.google.com/assets/colab-badge.svg\" alt=\"Open In Colab\"/></a>"
      ]
    },
    {
      "cell_type": "code",
      "metadata": {
        "colab": {
          "base_uri": "https://localhost:8080/"
        },
        "id": "GC_6PeobwwkH",
        "outputId": "dcee4d3a-bfd6-4e1d-ce55-3a7956ec8675"
      },
      "source": [
        "import torch\n",
        "from torch.autograd import Variable\n",
        "import torch.nn as nn\n",
        "import torch.nn.functional as F\n",
        "import torch.optim as optim\n",
        "import numpy as np\n",
        "import matplotlib.pyplot as plt\n",
        "%matplotlib inline\n",
        "torch.manual_seed(2)"
      ],
      "execution_count": 64,
      "outputs": [
        {
          "output_type": "execute_result",
          "data": {
            "text/plain": [
              "<torch._C.Generator at 0x7fa6329d7a90>"
            ]
          },
          "metadata": {},
          "execution_count": 64
        }
      ]
    },
    {
      "cell_type": "code",
      "metadata": {
        "id": "bL64bMTkw2GP"
      },
      "source": [
        "X = torch.Tensor([[0,0], [0,1], [1,0], [1,1]])\n",
        "Y = torch.Tensor([0, 1, 1, 0]).view(-1,1)"
      ],
      "execution_count": 65,
      "outputs": []
    },
    {
      "cell_type": "code",
      "metadata": {
        "id": "aC82kEAIw3Wf"
      },
      "source": [
        "class XOR(nn.Module):\n",
        "    def __init__(self, input_dim = 2, output_dim=1):\n",
        "        super(XOR, self).__init__()\n",
        "        self.lin1 = nn.Linear(input_dim, 5)\n",
        "        self.lin2 = nn.Linear(5, 4)\n",
        "        self.lin3 = nn.Linear(4, output_dim)\n",
        "    \n",
        "    def forward(self, x):\n",
        "        x = self.lin1(x)\n",
        "        x = self.lin2(x)\n",
        "        #x = F.tanh(x)\n",
        "        x = self.lin3(x)\n",
        "        #x = F.tanh(x)\n",
        "        return x"
      ],
      "execution_count": 66,
      "outputs": []
    },
    {
      "cell_type": "code",
      "metadata": {
        "colab": {
          "base_uri": "https://localhost:8080/"
        },
        "id": "8gQIQExYw65K",
        "outputId": "67c4c9af-1480-4079-d14d-3ec6d6cd647d"
      },
      "source": [
        "model = XOR()\n",
        "print(model)\n",
        "from torchsummary import summary\n",
        "summary(model, (2,2))"
      ],
      "execution_count": 67,
      "outputs": [
        {
          "output_type": "stream",
          "name": "stdout",
          "text": [
            "XOR(\n",
            "  (lin1): Linear(in_features=2, out_features=5, bias=True)\n",
            "  (lin2): Linear(in_features=5, out_features=4, bias=True)\n",
            "  (lin3): Linear(in_features=4, out_features=1, bias=True)\n",
            ")\n",
            "----------------------------------------------------------------\n",
            "        Layer (type)               Output Shape         Param #\n",
            "================================================================\n",
            "            Linear-1                 [-1, 2, 5]              15\n",
            "            Linear-2                 [-1, 2, 4]              24\n",
            "            Linear-3                 [-1, 2, 1]               5\n",
            "================================================================\n",
            "Total params: 44\n",
            "Trainable params: 44\n",
            "Non-trainable params: 0\n",
            "----------------------------------------------------------------\n",
            "Input size (MB): 0.00\n",
            "Forward/backward pass size (MB): 0.00\n",
            "Params size (MB): 0.00\n",
            "Estimated Total Size (MB): 0.00\n",
            "----------------------------------------------------------------\n"
          ]
        }
      ]
    },
    {
      "cell_type": "code",
      "metadata": {
        "id": "yeotEq19x6XF"
      },
      "source": [
        "def weights_init(model):\n",
        "    for m in model.modules():\n",
        "        if isinstance(m, nn.Linear):\n",
        "            # initialize the weight tensor, here we use a normal distribution\n",
        "            m.weight.data.normal_(0, 1)\n",
        "\n",
        "weights_init(model)"
      ],
      "execution_count": 68,
      "outputs": []
    },
    {
      "cell_type": "code",
      "metadata": {
        "id": "WrD_sNzLx78e"
      },
      "source": [
        "loss_func = nn.L1Loss()"
      ],
      "execution_count": 69,
      "outputs": []
    },
    {
      "cell_type": "code",
      "metadata": {
        "id": "-zvbrMd2x_lA"
      },
      "source": [
        "optimizer = optim.SGD(model.parameters(), lr=0.02, momentum=0.9)\n"
      ],
      "execution_count": 70,
      "outputs": []
    },
    {
      "cell_type": "code",
      "metadata": {
        "colab": {
          "base_uri": "https://localhost:8080/"
        },
        "id": "q7tWa3D7yA5X",
        "outputId": "943d731a-2185-4151-e517-62bc7228c7c0"
      },
      "source": [
        "epochs = 2001\n",
        "steps = X.size(0)\n",
        "for i in range(epochs):\n",
        "    for j in range(steps):\n",
        "        data_point = np.random.randint(X.size(0))\n",
        "        x_var = Variable(X[data_point], requires_grad=False)\n",
        "        y_var = Variable(Y[data_point], requires_grad=False)\n",
        "        \n",
        "        optimizer.zero_grad()\n",
        "        y_hat = model(x_var)\n",
        "        loss = loss_func.forward(y_hat, y_var)\n",
        "        loss.backward()\n",
        "        optimizer.step()\n",
        "        \n",
        "    if i % 50 == 0:\n",
        "        print( \"Epoch: {0}, Loss: {1}, \".format(i, loss.data.numpy()))"
      ],
      "execution_count": 71,
      "outputs": [
        {
          "output_type": "stream",
          "name": "stdout",
          "text": [
            "Epoch: 0, Loss: 0.12334370613098145, \n",
            "Epoch: 50, Loss: 0.028284311294555664, \n",
            "Epoch: 100, Loss: 0.6153806447982788, \n",
            "Epoch: 150, Loss: 0.14332470297813416, \n",
            "Epoch: 200, Loss: 0.6277250647544861, \n",
            "Epoch: 250, Loss: 0.7126145362854004, \n",
            "Epoch: 300, Loss: 0.0801546573638916, \n",
            "Epoch: 350, Loss: 0.3710530400276184, \n",
            "Epoch: 400, Loss: 0.6528398990631104, \n",
            "Epoch: 450, Loss: 1.0417834520339966, \n",
            "Epoch: 500, Loss: 1.0862061977386475, \n",
            "Epoch: 550, Loss: 0.5344029664993286, \n",
            "Epoch: 600, Loss: 0.2208111584186554, \n",
            "Epoch: 650, Loss: 0.04047960042953491, \n",
            "Epoch: 700, Loss: 0.9555542469024658, \n",
            "Epoch: 750, Loss: 0.9824627041816711, \n",
            "Epoch: 800, Loss: 0.18254148960113525, \n",
            "Epoch: 850, Loss: 0.4536147713661194, \n",
            "Epoch: 900, Loss: 0.3286752700805664, \n",
            "Epoch: 950, Loss: 0.6753993034362793, \n",
            "Epoch: 1000, Loss: 0.7379246354103088, \n",
            "Epoch: 1050, Loss: 1.0198895931243896, \n",
            "Epoch: 1100, Loss: 0.5469993948936462, \n",
            "Epoch: 1150, Loss: 0.5342421531677246, \n",
            "Epoch: 1200, Loss: 0.07178451865911484, \n",
            "Epoch: 1250, Loss: 0.035328030586242676, \n",
            "Epoch: 1300, Loss: 0.24729284644126892, \n",
            "Epoch: 1350, Loss: 0.5135557651519775, \n",
            "Epoch: 1400, Loss: 0.08064357936382294, \n",
            "Epoch: 1450, Loss: 0.5730245113372803, \n",
            "Epoch: 1500, Loss: 0.5010813474655151, \n",
            "Epoch: 1550, Loss: 0.4712705910205841, \n",
            "Epoch: 1600, Loss: 0.7003611922264099, \n",
            "Epoch: 1650, Loss: 0.4378480613231659, \n",
            "Epoch: 1700, Loss: 0.6785215139389038, \n",
            "Epoch: 1750, Loss: 0.9133191704750061, \n",
            "Epoch: 1800, Loss: 0.014497073367238045, \n",
            "Epoch: 1850, Loss: 0.35557854175567627, \n",
            "Epoch: 1900, Loss: 0.060169219970703125, \n",
            "Epoch: 1950, Loss: 0.5550518035888672, \n",
            "Epoch: 2000, Loss: 0.1010601669549942, \n"
          ]
        }
      ]
    },
    {
      "cell_type": "code",
      "metadata": {
        "id": "QV0dIdveyCRi"
      },
      "source": [
        ""
      ],
      "execution_count": 71,
      "outputs": []
    }
  ]
}